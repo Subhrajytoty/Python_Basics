{
  "nbformat": 4,
  "nbformat_minor": 0,
  "metadata": {
    "colab": {
      "name": "tensorflow-mnist-basic.ipynb",
      "version": "0.3.2",
      "provenance": [],
      "collapsed_sections": [],
      "include_colab_link": true
    }
  },
  "cells": [
    {
      "cell_type": "markdown",
      "metadata": {
        "id": "view-in-github",
        "colab_type": "text"
      },
      "source": [
        "[View in Colaboratory](https://colab.research.google.com/github/subroy13/Python_Tutorials/blob/master/Tensorflow/tensorflow_mnist_basic.ipynb)"
      ]
    },
    {
      "metadata": {
        "id": "vLpp35_1Oa49",
        "colab_type": "text"
      },
      "cell_type": "markdown",
      "source": [
        "# Tensorflow with MNIST\n",
        "  Here, we will be using a simple neural network with the popular mnist dataset. We will create the complete dense layers (or the hidden layers) from scratch using a softmax acitvation function."
      ]
    },
    {
      "metadata": {
        "id": "7Kw5E9RYO6wa",
        "colab_type": "code",
        "colab": {}
      },
      "cell_type": "code",
      "source": [
        "# importing the libraries\n",
        "import tensorflow as tf\n",
        "import matplotlib.pyplot as plt\n",
        "import numpy as np"
      ],
      "execution_count": 0,
      "outputs": []
    },
    {
      "metadata": {
        "id": "NuAZ66imPg2s",
        "colab_type": "text"
      },
      "cell_type": "markdown",
      "source": [
        "## Load the MNIST dataset and visualize"
      ]
    },
    {
      "metadata": {
        "id": "bMe9Dx1HPqtU",
        "colab_type": "code",
        "colab": {
          "base_uri": "https://localhost:8080/",
          "height": 68
        },
        "outputId": "d177723c-da39-4894-a3d9-60cfad50ca34"
      },
      "cell_type": "code",
      "source": [
        "mnist = tf.keras.datasets.mnist\n",
        "(x_train, y_train), (x_test, y_test) = mnist.load_data()"
      ],
      "execution_count": 0,
      "outputs": [
        {
          "output_type": "stream",
          "text": [
            "Downloading data from https://storage.googleapis.com/tensorflow/tf-keras-datasets/mnist.npz\n",
            "11493376/11490434 [==============================] - 0s 0us/step\n",
            "11501568/11490434 [==============================] - 0s 0us/step\n"
          ],
          "name": "stdout"
        }
      ]
    },
    {
      "metadata": {
        "id": "bMZi5NDyTWHt",
        "colab_type": "code",
        "colab": {}
      },
      "cell_type": "code",
      "source": [
        "x_train = x_train / 255.0\n",
        "x_test = x_test / 255.0   #these help the matrices to have entries between 0 and 1"
      ],
      "execution_count": 0,
      "outputs": []
    },
    {
      "metadata": {
        "id": "vtBcwvOKUltp",
        "colab_type": "code",
        "colab": {
          "base_uri": "https://localhost:8080/",
          "height": 589
        },
        "outputId": "9165516b-147e-4621-9f42-d9d0b81e4988"
      },
      "cell_type": "code",
      "source": [
        "plt.figure(figsize=(10,10))\n",
        "for i in range(25):\n",
        "    plt.subplot(5,5,i+1)\n",
        "    plt.xticks([])\n",
        "    plt.yticks([])\n",
        "    plt.grid(False)\n",
        "    plt.imshow(x_train[i], cmap=plt.cm.binary)\n",
        "    plt.xlabel(y_train[i])"
      ],
      "execution_count": 0,
      "outputs": [
        {
          "output_type": "display_data",
          "data": {
            "image/png": "[encoded data removed]",
            "text/plain": [
              "<matplotlib.figure.Figure at 0x7f6f7d854c50>"
            ]
          },
          "metadata": {
            "tags": []
          }
        }
      ]
    },
    {
      "metadata": {
        "id": "vegzjg08Qaa6",
        "colab_type": "code",
        "colab": {
          "base_uri": "https://localhost:8080/",
          "height": 34
        },
        "outputId": "536b8593-0200-4510-d83f-0b9b286a8dd6"
      },
      "cell_type": "code",
      "source": [
        "print(y_train[0:10])"
      ],
      "execution_count": 0,
      "outputs": [
        {
          "output_type": "stream",
          "text": [
            "[5 0 4 1 9 2 1 3 1 4]\n"
          ],
          "name": "stdout"
        }
      ]
    },
    {
      "metadata": {
        "id": "lRd4QEG-Saet",
        "colab_type": "text"
      },
      "cell_type": "markdown",
      "source": [
        "We see that we need to change the y_train to one-hot tensors rather than the indices."
      ]
    },
    {
      "metadata": {
        "id": "Gx8rZWcnSjQb",
        "colab_type": "code",
        "colab": {
          "base_uri": "https://localhost:8080/",
          "height": 34
        },
        "outputId": "25dede5c-968c-4ba3-81c4-b753ee247d72"
      },
      "cell_type": "code",
      "source": [
        "y_train = tf.one_hot(y_train, depth = 10)\n",
        "print(y_train[0:10])"
      ],
      "execution_count": 0,
      "outputs": [
        {
          "output_type": "stream",
          "text": [
            "Tensor(\"strided_slice:0\", shape=(10, 10), dtype=float32)\n"
          ],
          "name": "stdout"
        }
      ]
    },
    {
      "metadata": {
        "id": "IyhAFkKRS8Hk",
        "colab_type": "text"
      },
      "cell_type": "markdown",
      "source": [
        "Similarly, change the y_test..."
      ]
    },
    {
      "metadata": {
        "id": "89HzLCcES_Fu",
        "colab_type": "code",
        "colab": {}
      },
      "cell_type": "code",
      "source": [
        "y_test = tf.one_hot(y_test, depth = 10)  #there are 10 classes"
      ],
      "execution_count": 0,
      "outputs": []
    },
    {
      "metadata": {
        "id": "nkKgdfvrWNrt",
        "colab_type": "text"
      },
      "cell_type": "markdown",
      "source": [
        "## Building the Neural Network"
      ]
    },
    {
      "metadata": {
        "id": "sfCKSyazWRhY",
        "colab_type": "code",
        "colab": {}
      },
      "cell_type": "code",
      "source": [
        "X = tf.placeholder(tf.float32, [None, 784])  # we will be feeding (28*28) size vectors\n",
        "W = tf.Variable(tf.zeros([784, 10]))  # works as a weight matrix\n",
        "b = tf.Variable(tf.zeros([10]))  # the bias vector\n",
        "\n",
        "#finally our outout will be,\n",
        "y = tf.nn.softmax(tf.matmul(X, W) + b)"
      ],
      "execution_count": 0,
      "outputs": []
    },
    {
      "metadata": {
        "id": "2jOQYDA_X4Zo",
        "colab_type": "code",
        "colab": {}
      },
      "cell_type": "code",
      "source": [
        "# making placeholder to hold the actual labels\n",
        "y_actual = tf.placeholder(tf.float32, [None, 10])"
      ],
      "execution_count": 0,
      "outputs": []
    },
    {
      "metadata": {
        "id": "8UgYKNJ9YHON",
        "colab_type": "code",
        "colab": {}
      },
      "cell_type": "code",
      "source": [
        "# defining the loss and optimizer\n",
        "cross_entropy = tf.reduce_mean(-tf.reduce_sum(y_actual * tf.log(y), reduction_indices = [1]))  #this is our loss\n",
        "train_step = tf.train.GradientDescentOptimizer(0.5).minimize(cross_entropy)   #this is the optimizer with 0.5 as learning rate\n",
        "correct_prediction = tf.equal(tf.argmax(y, 1), tf.argmax(y_actual, 1))\n",
        "accuracy = tf.reduce_mean(tf.cast(correct_prediction, tf.float32))"
      ],
      "execution_count": 0,
      "outputs": []
    },
    {
      "metadata": {
        "id": "43I61ikyZAaz",
        "colab_type": "text"
      },
      "cell_type": "markdown",
      "source": [
        "## Initializing Tensorflow Session"
      ]
    },
    {
      "metadata": {
        "id": "la7aJ5AIY9nd",
        "colab_type": "code",
        "colab": {}
      },
      "cell_type": "code",
      "source": [
        "sess = tf.InteractiveSession()  #creates an interactive session\n",
        "tf.global_variables_initializer().run()  #run the session to initialize the variables\n",
        "y_train = y_train.eval()  #evaluate to convert it into numpy array"
      ],
      "execution_count": 0,
      "outputs": []
    },
    {
      "metadata": {
        "id": "2b4rsTLbZh1m",
        "colab_type": "code",
        "colab": {}
      },
      "cell_type": "code",
      "source": [
        "for i in range(1000):\n",
        "  X_batch = x_train[(i*100):((i+1)*100)]\n",
        "  X_batch = np.reshape(X_batch, [-1, 784])\n",
        "  \n",
        "  y_batch = y_train[(i*100):((i+1)*100)]\n",
        "  \n",
        "  sess.run(train_step, feed_dict = {X: X_batch, y_actual: y_batch})"
      ],
      "execution_count": 0,
      "outputs": []
    },
    {
      "metadata": {
        "id": "nHbXYpIneqte",
        "colab_type": "text"
      },
      "cell_type": "markdown",
      "source": [
        "## Evaluating Accuracy on Test data"
      ]
    },
    {
      "metadata": {
        "id": "fWHyAe4oeuG5",
        "colab_type": "code",
        "colab": {
          "base_uri": "https://localhost:8080/",
          "height": 34
        },
        "outputId": "c8098fff-3276-4a39-bd46-e71c93ae1d38"
      },
      "cell_type": "code",
      "source": [
        "x_test = np.reshape(x_test, [-1, 784])\n",
        "y_test = y_test.eval()  #evaluate to convert into numpy array\n",
        "print(\"The Accuracy is \", sess.run(accuracy, feed_dict = {X: x_test, y_actual: y_test}))"
      ],
      "execution_count": 0,
      "outputs": [
        {
          "output_type": "stream",
          "text": [
            "('The Accuracy is ', 0.9053)\n"
          ],
          "name": "stdout"
        }
      ]
    }
  ]
}